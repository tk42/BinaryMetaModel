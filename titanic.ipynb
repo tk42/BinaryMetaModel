{
 "cells": [
  {
   "cell_type": "code",
   "execution_count": 1,
   "metadata": {},
   "outputs": [
    {
     "name": "stdout",
     "output_type": "stream",
     "text": [
      "Requirement already satisfied: seaborn in /opt/homebrew/lib/python3.11/site-packages (0.13.2)\n",
      "Requirement already satisfied: numpy!=1.24.0,>=1.20 in /opt/homebrew/lib/python3.11/site-packages (from seaborn) (1.24.3)\n",
      "Requirement already satisfied: pandas>=1.2 in /opt/homebrew/lib/python3.11/site-packages (from seaborn) (2.0.1)\n",
      "Requirement already satisfied: matplotlib!=3.6.1,>=3.4 in /opt/homebrew/lib/python3.11/site-packages (from seaborn) (3.7.2)\n",
      "Requirement already satisfied: contourpy>=1.0.1 in /opt/homebrew/lib/python3.11/site-packages (from matplotlib!=3.6.1,>=3.4->seaborn) (1.1.0)\n",
      "Requirement already satisfied: cycler>=0.10 in /opt/homebrew/lib/python3.11/site-packages (from matplotlib!=3.6.1,>=3.4->seaborn) (0.11.0)\n",
      "Requirement already satisfied: fonttools>=4.22.0 in /opt/homebrew/lib/python3.11/site-packages (from matplotlib!=3.6.1,>=3.4->seaborn) (4.42.1)\n",
      "Requirement already satisfied: kiwisolver>=1.0.1 in /opt/homebrew/lib/python3.11/site-packages (from matplotlib!=3.6.1,>=3.4->seaborn) (1.4.5)\n",
      "Requirement already satisfied: packaging>=20.0 in /opt/homebrew/lib/python3.11/site-packages (from matplotlib!=3.6.1,>=3.4->seaborn) (23.1)\n",
      "Requirement already satisfied: pillow>=6.2.0 in /opt/homebrew/lib/python3.11/site-packages (from matplotlib!=3.6.1,>=3.4->seaborn) (9.5.0)\n",
      "Requirement already satisfied: pyparsing<3.1,>=2.3.1 in /opt/homebrew/lib/python3.11/site-packages (from matplotlib!=3.6.1,>=3.4->seaborn) (3.0.9)\n",
      "Requirement already satisfied: python-dateutil>=2.7 in /opt/homebrew/lib/python3.11/site-packages (from matplotlib!=3.6.1,>=3.4->seaborn) (2.8.2)\n",
      "Requirement already satisfied: pytz>=2020.1 in /opt/homebrew/lib/python3.11/site-packages (from pandas>=1.2->seaborn) (2023.3)\n",
      "Requirement already satisfied: tzdata>=2022.1 in /opt/homebrew/lib/python3.11/site-packages (from pandas>=1.2->seaborn) (2023.3)\n",
      "Requirement already satisfied: six>=1.5 in /opt/homebrew/lib/python3.11/site-packages (from python-dateutil>=2.7->matplotlib!=3.6.1,>=3.4->seaborn) (1.16.0)\n",
      "\n",
      "\u001b[1m[\u001b[0m\u001b[34;49mnotice\u001b[0m\u001b[1;39;49m]\u001b[0m\u001b[39;49m A new release of pip is available: \u001b[0m\u001b[31;49m23.3.1\u001b[0m\u001b[39;49m -> \u001b[0m\u001b[32;49m24.0\u001b[0m\n",
      "\u001b[1m[\u001b[0m\u001b[34;49mnotice\u001b[0m\u001b[1;39;49m]\u001b[0m\u001b[39;49m To update, run: \u001b[0m\u001b[32;49mpython3.11 -m pip install --upgrade pip\u001b[0m\n"
     ]
    }
   ],
   "source": [
    "!pip install seaborn"
   ]
  },
  {
   "cell_type": "code",
   "execution_count": 2,
   "metadata": {},
   "outputs": [],
   "source": [
    "import seaborn as sns\n",
    "from sklearn.model_selection import train_test_split\n",
    "from sklearn.preprocessing import LabelEncoder\n",
    "\n",
    "\n",
    "df = sns.load_dataset('titanic')\n",
    "\n",
    "le = LabelEncoder()\n",
    "le.fit(df['sex'])\n",
    "df['sex'] = le.transform(df['sex'])\n",
    "\n",
    "le = LabelEncoder()\n",
    "le.fit(df['embarked'])\n",
    "df['embarked'] = le.transform(df['embarked'])\n",
    "\n",
    "le = LabelEncoder()\n",
    "le.fit(df['class'])\n",
    "df['class'] = le.transform(df['class'])\n",
    "\n",
    "df['age'].fillna(df['age'].median(), inplace=True)\n",
    "\n",
    "X = df[['pclass', 'sex', 'fare', 'age', 'class', \"embarked\"]] # 説明変数\n",
    "Y = df['survived']\n",
    "x_train, x_test, y_train, y_test = train_test_split(X.values, Y.values, test_size = 0.2, random_state = 0) # 80%のデータを学習データに、20%を検証データにする"
   ]
  },
  {
   "cell_type": "code",
   "execution_count": 3,
   "metadata": {},
   "outputs": [
    {
     "data": {
      "text/html": [
       "<div>\n",
       "<style scoped>\n",
       "    .dataframe tbody tr th:only-of-type {\n",
       "        vertical-align: middle;\n",
       "    }\n",
       "\n",
       "    .dataframe tbody tr th {\n",
       "        vertical-align: top;\n",
       "    }\n",
       "\n",
       "    .dataframe thead th {\n",
       "        text-align: right;\n",
       "    }\n",
       "</style>\n",
       "<table border=\"1\" class=\"dataframe\">\n",
       "  <thead>\n",
       "    <tr style=\"text-align: right;\">\n",
       "      <th></th>\n",
       "      <th>pclass</th>\n",
       "      <th>sex</th>\n",
       "      <th>fare</th>\n",
       "      <th>age</th>\n",
       "      <th>class</th>\n",
       "      <th>embarked</th>\n",
       "    </tr>\n",
       "  </thead>\n",
       "  <tbody>\n",
       "    <tr>\n",
       "      <th>0</th>\n",
       "      <td>3</td>\n",
       "      <td>1</td>\n",
       "      <td>7.2500</td>\n",
       "      <td>22.0</td>\n",
       "      <td>2</td>\n",
       "      <td>2</td>\n",
       "    </tr>\n",
       "    <tr>\n",
       "      <th>1</th>\n",
       "      <td>1</td>\n",
       "      <td>0</td>\n",
       "      <td>71.2833</td>\n",
       "      <td>38.0</td>\n",
       "      <td>0</td>\n",
       "      <td>0</td>\n",
       "    </tr>\n",
       "    <tr>\n",
       "      <th>2</th>\n",
       "      <td>3</td>\n",
       "      <td>0</td>\n",
       "      <td>7.9250</td>\n",
       "      <td>26.0</td>\n",
       "      <td>2</td>\n",
       "      <td>2</td>\n",
       "    </tr>\n",
       "    <tr>\n",
       "      <th>3</th>\n",
       "      <td>1</td>\n",
       "      <td>0</td>\n",
       "      <td>53.1000</td>\n",
       "      <td>35.0</td>\n",
       "      <td>0</td>\n",
       "      <td>2</td>\n",
       "    </tr>\n",
       "    <tr>\n",
       "      <th>4</th>\n",
       "      <td>3</td>\n",
       "      <td>1</td>\n",
       "      <td>8.0500</td>\n",
       "      <td>35.0</td>\n",
       "      <td>2</td>\n",
       "      <td>2</td>\n",
       "    </tr>\n",
       "    <tr>\n",
       "      <th>...</th>\n",
       "      <td>...</td>\n",
       "      <td>...</td>\n",
       "      <td>...</td>\n",
       "      <td>...</td>\n",
       "      <td>...</td>\n",
       "      <td>...</td>\n",
       "    </tr>\n",
       "    <tr>\n",
       "      <th>886</th>\n",
       "      <td>2</td>\n",
       "      <td>1</td>\n",
       "      <td>13.0000</td>\n",
       "      <td>27.0</td>\n",
       "      <td>1</td>\n",
       "      <td>2</td>\n",
       "    </tr>\n",
       "    <tr>\n",
       "      <th>887</th>\n",
       "      <td>1</td>\n",
       "      <td>0</td>\n",
       "      <td>30.0000</td>\n",
       "      <td>19.0</td>\n",
       "      <td>0</td>\n",
       "      <td>2</td>\n",
       "    </tr>\n",
       "    <tr>\n",
       "      <th>888</th>\n",
       "      <td>3</td>\n",
       "      <td>0</td>\n",
       "      <td>23.4500</td>\n",
       "      <td>28.0</td>\n",
       "      <td>2</td>\n",
       "      <td>2</td>\n",
       "    </tr>\n",
       "    <tr>\n",
       "      <th>889</th>\n",
       "      <td>1</td>\n",
       "      <td>1</td>\n",
       "      <td>30.0000</td>\n",
       "      <td>26.0</td>\n",
       "      <td>0</td>\n",
       "      <td>0</td>\n",
       "    </tr>\n",
       "    <tr>\n",
       "      <th>890</th>\n",
       "      <td>3</td>\n",
       "      <td>1</td>\n",
       "      <td>7.7500</td>\n",
       "      <td>32.0</td>\n",
       "      <td>2</td>\n",
       "      <td>1</td>\n",
       "    </tr>\n",
       "  </tbody>\n",
       "</table>\n",
       "<p>891 rows × 6 columns</p>\n",
       "</div>"
      ],
      "text/plain": [
       "     pclass  sex     fare   age  class  embarked\n",
       "0         3    1   7.2500  22.0      2         2\n",
       "1         1    0  71.2833  38.0      0         0\n",
       "2         3    0   7.9250  26.0      2         2\n",
       "3         1    0  53.1000  35.0      0         2\n",
       "4         3    1   8.0500  35.0      2         2\n",
       "..      ...  ...      ...   ...    ...       ...\n",
       "886       2    1  13.0000  27.0      1         2\n",
       "887       1    0  30.0000  19.0      0         2\n",
       "888       3    0  23.4500  28.0      2         2\n",
       "889       1    1  30.0000  26.0      0         0\n",
       "890       3    1   7.7500  32.0      2         1\n",
       "\n",
       "[891 rows x 6 columns]"
      ]
     },
     "execution_count": 3,
     "metadata": {},
     "output_type": "execute_result"
    }
   ],
   "source": [
    "X"
   ]
  },
  {
   "cell_type": "code",
   "execution_count": 4,
   "metadata": {},
   "outputs": [
    {
     "name": "stdout",
     "output_type": "stream",
     "text": [
      "pclass      0\n",
      "sex         0\n",
      "fare        0\n",
      "age         0\n",
      "class       0\n",
      "embarked    0\n",
      "dtype: int64\n"
     ]
    }
   ],
   "source": [
    "import pandas as pd\n",
    "\n",
    "# Assuming X is a pandas DataFrame\n",
    "nan_values = X.isnull().sum()\n",
    "print(nan_values)\n"
   ]
  },
  {
   "cell_type": "code",
   "execution_count": 5,
   "metadata": {},
   "outputs": [],
   "source": [
    "from sklearn.linear_model import LogisticRegression, LinearRegression\n",
    "\n",
    "model = LogisticRegression()"
   ]
  },
  {
   "cell_type": "code",
   "execution_count": 6,
   "metadata": {},
   "outputs": [],
   "source": [
    "# 学習\n",
    "model.fit(x_train, y_train)\n",
    "\n",
    "# 予測\n",
    "pred = model.predict(x_test)\n"
   ]
  },
  {
   "cell_type": "code",
   "execution_count": 7,
   "metadata": {},
   "outputs": [
    {
     "data": {
      "text/plain": [
       "array([0, 0, 0, 1, 1, 0, 1, 1, 1, 1, 0, 1, 0, 1, 1, 1, 0, 0, 0, 0, 0, 1,\n",
       "       0, 0, 1, 1, 0, 1, 1, 1, 0, 1, 0, 0, 0, 1, 0, 0, 0, 0, 0, 0, 0, 0,\n",
       "       1, 0, 0, 1, 0, 0, 0, 1, 1, 0, 1, 0, 0, 1, 0, 0, 0, 1, 1, 1, 1, 0,\n",
       "       1, 0, 1, 1, 1, 0, 1, 0, 0, 1, 1, 0, 0, 0, 0, 0, 1, 0, 0, 1, 1, 0,\n",
       "       1, 1, 0, 0, 0, 1, 1, 0, 1, 0, 0, 1, 0, 0, 0, 0, 1, 0, 1, 0, 0, 1,\n",
       "       0, 1, 0, 1, 0, 1, 1, 1, 0, 1, 0, 0, 0, 0, 0, 0, 0, 0, 0, 0, 1, 0,\n",
       "       0, 1, 0, 0, 0, 0, 0, 0, 0, 1, 0, 1, 1, 1, 0, 1, 1, 0, 0, 1, 0, 0,\n",
       "       1, 0, 1, 0, 1, 1, 0, 0, 1, 1, 0, 0, 0, 0, 0, 0, 0, 1, 0, 0, 1, 0,\n",
       "       1, 0, 0])"
      ]
     },
     "execution_count": 7,
     "metadata": {},
     "output_type": "execute_result"
    }
   ],
   "source": [
    "pred"
   ]
  },
  {
   "cell_type": "code",
   "execution_count": 8,
   "metadata": {},
   "outputs": [
    {
     "name": "stdout",
     "output_type": "stream",
     "text": [
      "confusion matrix = \n",
      " [[91 19]\n",
      " [17 52]]\n",
      "accuracy =  0.7988826815642458\n",
      "precision =  0.7323943661971831\n",
      "recall =  0.7536231884057971\n",
      "f1 score =  0.7428571428571428\n"
     ]
    }
   ],
   "source": [
    "from sklearn.metrics import confusion_matrix, accuracy_score, precision_score, recall_score, f1_score\n",
    "\n",
    "print('confusion matrix = \\n', confusion_matrix(y_true=y_test, y_pred=pred))\n",
    "print('accuracy = ', accuracy_score(y_true=y_test, y_pred=pred))\n",
    "print('precision = ', precision_score(y_true=y_test, y_pred=pred))\n",
    "print('recall = ', recall_score(y_true=y_test, y_pred=pred))\n",
    "print('f1 score = ', f1_score(y_true=y_test, y_pred=pred))\n"
   ]
  },
  {
   "cell_type": "code",
   "execution_count": 9,
   "metadata": {},
   "outputs": [],
   "source": [
    "from metamodel.binary import BinaryMetaModel\n",
    "\n",
    "metamodel = BinaryMetaModel(\n",
    "    model1=LogisticRegression(),\n",
    "    model2=LogisticRegression()\n",
    ")"
   ]
  },
  {
   "cell_type": "code",
   "execution_count": 10,
   "metadata": {},
   "outputs": [
    {
     "name": "stderr",
     "output_type": "stream",
     "text": [
      "/opt/homebrew/lib/python3.11/site-packages/sklearn/utils/validation.py:1143: DataConversionWarning: A column-vector y was passed when a 1d array was expected. Please change the shape of y to (n_samples, ), for example using ravel().\n",
      "  y = column_or_1d(y, warn=True)\n",
      "/opt/homebrew/lib/python3.11/site-packages/sklearn/linear_model/_logistic.py:458: ConvergenceWarning: lbfgs failed to converge (status=1):\n",
      "STOP: TOTAL NO. of ITERATIONS REACHED LIMIT.\n",
      "\n",
      "Increase the number of iterations (max_iter) or scale the data as shown in:\n",
      "    https://scikit-learn.org/stable/modules/preprocessing.html\n",
      "Please also refer to the documentation for alternative solver options:\n",
      "    https://scikit-learn.org/stable/modules/linear_model.html#logistic-regression\n",
      "  n_iter_i = _check_optimize_result(\n"
     ]
    }
   ],
   "source": [
    "# 学習\n",
    "metamodel.fit(x_train, y_train)\n",
    "\n",
    "# 予測\n",
    "pred = metamodel.predict(x_test)\n"
   ]
  },
  {
   "cell_type": "code",
   "execution_count": 11,
   "metadata": {},
   "outputs": [
    {
     "data": {
      "text/plain": [
       "array([0, 0, 0, 1, 1, 0, 1, 1, 0, 1, 0, 1, 0, 1, 1, 1, 0, 0, 0, 0, 0, 1,\n",
       "       0, 0, 1, 1, 0, 1, 1, 1, 0, 1, 0, 0, 0, 1, 0, 0, 0, 0, 0, 0, 0, 0,\n",
       "       1, 0, 0, 1, 0, 0, 0, 1, 1, 0, 1, 0, 0, 1, 0, 0, 0, 0, 1, 1, 1, 0,\n",
       "       1, 0, 1, 1, 1, 0, 0, 0, 0, 1, 0, 0, 0, 0, 0, 0, 1, 0, 0, 1, 1, 0,\n",
       "       1, 0, 0, 0, 0, 1, 1, 0, 1, 0, 0, 0, 0, 0, 0, 0, 0, 0, 1, 0, 0, 1,\n",
       "       0, 1, 0, 1, 0, 1, 1, 1, 0, 1, 0, 0, 0, 0, 0, 0, 0, 0, 0, 0, 1, 0,\n",
       "       0, 1, 0, 0, 0, 0, 0, 0, 0, 1, 0, 1, 1, 1, 0, 1, 1, 0, 0, 0, 0, 0,\n",
       "       1, 0, 1, 0, 1, 1, 0, 0, 1, 0, 0, 0, 0, 0, 0, 0, 0, 1, 0, 0, 1, 0,\n",
       "       1, 0, 0])"
      ]
     },
     "execution_count": 11,
     "metadata": {},
     "output_type": "execute_result"
    }
   ],
   "source": [
    "pred"
   ]
  },
  {
   "cell_type": "code",
   "execution_count": 12,
   "metadata": {},
   "outputs": [
    {
     "name": "stdout",
     "output_type": "stream",
     "text": [
      "confusion matrix = \n",
      " [[96 14]\n",
      " [21 48]]\n",
      "accuracy =  0.8044692737430168\n",
      "precision =  0.7741935483870968\n",
      "recall =  0.6956521739130435\n",
      "f1 score =  0.732824427480916\n"
     ]
    }
   ],
   "source": [
    "from sklearn.metrics import confusion_matrix, accuracy_score, precision_score, recall_score, f1_score\n",
    "\n",
    "print('confusion matrix = \\n', confusion_matrix(y_true=y_test, y_pred=pred))\n",
    "print('accuracy = ', accuracy_score(y_true=y_test, y_pred=pred))\n",
    "print('precision = ', precision_score(y_true=y_test, y_pred=pred))\n",
    "print('recall = ', recall_score(y_true=y_test, y_pred=pred))\n",
    "print('f1 score = ', f1_score(y_true=y_test, y_pred=pred))\n"
   ]
  },
  {
   "cell_type": "code",
   "execution_count": 13,
   "metadata": {},
   "outputs": [],
   "source": [
    "metamodel = BinaryMetaModel(\n",
    "    model1=LogisticRegression(),\n",
    "    model2=LinearRegression()\n",
    ")"
   ]
  },
  {
   "cell_type": "code",
   "execution_count": 14,
   "metadata": {},
   "outputs": [],
   "source": [
    "# 学習\n",
    "metamodel.fit(x_train, y_train)\n",
    "\n",
    "# 予測\n",
    "pred = metamodel.predict(x_test)\n"
   ]
  },
  {
   "cell_type": "code",
   "execution_count": 15,
   "metadata": {},
   "outputs": [
    {
     "data": {
      "text/plain": [
       "array([[-0.02329857],\n",
       "       [-0.05632462],\n",
       "       [-0.01475799],\n",
       "       [ 0.86204747],\n",
       "       [ 0.70045497],\n",
       "       [ 0.1315768 ],\n",
       "       [ 0.80851053],\n",
       "       [ 0.81831672],\n",
       "       [ 0.52981896],\n",
       "       [ 0.70392046],\n",
       "       [-0.05357475],\n",
       "       [ 0.7475706 ],\n",
       "       [-0.03897879],\n",
       "       [ 0.79083713],\n",
       "       [ 0.88391881],\n",
       "       [ 0.68876056],\n",
       "       [-0.04968398],\n",
       "       [ 0.04581464],\n",
       "       [-0.06634963],\n",
       "       [ 0.01721638],\n",
       "       [ 0.05369054],\n",
       "       [ 0.83444953],\n",
       "       [-0.03897559],\n",
       "       [ 0.13144884],\n",
       "       [ 0.67694208],\n",
       "       [ 0.8481575 ],\n",
       "       [-0.06206858],\n",
       "       [ 0.67747631],\n",
       "       [ 0.76545156],\n",
       "       [ 0.70059675],\n",
       "       [-0.02888461],\n",
       "       [ 0.73407177],\n",
       "       [-0.05682367],\n",
       "       [ 0.13029719],\n",
       "       [-0.05760945],\n",
       "       [ 0.53542548],\n",
       "       [-0.07725106],\n",
       "       [ 0.03980783],\n",
       "       [ 0.04340961],\n",
       "       [ 0.00215164],\n",
       "       [ 0.10866379],\n",
       "       [-0.01720582],\n",
       "       [-0.05810328],\n",
       "       [-0.04475524],\n",
       "       [ 0.83349121],\n",
       "       [-0.05641312],\n",
       "       [-0.05641312],\n",
       "       [ 0.84653644],\n",
       "       [ 0.02361552],\n",
       "       [ 0.08506549],\n",
       "       [ 0.13170476],\n",
       "       [ 0.53974108],\n",
       "       [ 0.79591047],\n",
       "       [-0.04368835],\n",
       "       [ 0.54128567],\n",
       "       [ 0.02934018],\n",
       "       [ 0.08451633],\n",
       "       [ 0.68700824],\n",
       "       [-0.0360831 ],\n",
       "       [-0.04294558],\n",
       "       [-0.0129653 ],\n",
       "       [ 0.6641691 ],\n",
       "       [ 0.84275477],\n",
       "       [ 0.53875204],\n",
       "       [ 0.66954113],\n",
       "       [-0.04463424],\n",
       "       [ 0.82842438],\n",
       "       [ 0.03404957],\n",
       "       [ 0.79797043],\n",
       "       [ 0.86979848],\n",
       "       [ 0.76686543],\n",
       "       [ 0.0977972 ],\n",
       "       [ 0.52785722],\n",
       "       [-0.05645259],\n",
       "       [-0.05150406],\n",
       "       [ 0.75966186],\n",
       "       [ 0.45950973],\n",
       "       [ 0.15011574],\n",
       "       [-0.06453801],\n",
       "       [ 0.07343742],\n",
       "       [-0.04317591],\n",
       "       [-0.03159817],\n",
       "       [ 0.7640377 ],\n",
       "       [-0.03941584],\n",
       "       [ 0.01039148],\n",
       "       [ 0.85469715],\n",
       "       [ 0.8215226 ],\n",
       "       [ 0.24432756],\n",
       "       [ 0.75669359],\n",
       "       [ 0.53515526],\n",
       "       [ 0.13938243],\n",
       "       [-0.04368835],\n",
       "       [ 0.07118762],\n",
       "       [ 0.86208543],\n",
       "       [ 0.69069971],\n",
       "       [-0.02144848],\n",
       "       [ 0.76980853],\n",
       "       [-0.04758296],\n",
       "       [ 0.08734406],\n",
       "       [ 0.53066371],\n",
       "       [-0.04660108],\n",
       "       [-0.00091942],\n",
       "       [-0.04362544],\n",
       "       [-0.04226384],\n",
       "       [ 0.66688508],\n",
       "       [ 0.28118697],\n",
       "       [ 0.76462653],\n",
       "       [ 0.2677293 ],\n",
       "       [ 0.04008262],\n",
       "       [ 0.68440675],\n",
       "       [-0.08467975],\n",
       "       [ 0.85915883],\n",
       "       [-0.0745064 ],\n",
       "       [ 0.66891636],\n",
       "       [ 0.09736085],\n",
       "       [ 0.76453696],\n",
       "       [ 0.67257562],\n",
       "       [ 0.85545533],\n",
       "       [-0.07337949],\n",
       "       [ 0.73711031],\n",
       "       [-0.06885095],\n",
       "       [-0.03916006],\n",
       "       [-0.04529843],\n",
       "       [ 0.1252438 ],\n",
       "       [-0.06367653],\n",
       "       [ 0.12415967],\n",
       "       [-0.02144741],\n",
       "       [-0.05214062],\n",
       "       [ 0.04249501],\n",
       "       [ 0.00677072],\n",
       "       [ 0.6962872 ],\n",
       "       [-0.04655554],\n",
       "       [-0.05195507],\n",
       "       [ 0.679773  ],\n",
       "       [ 0.08182936],\n",
       "       [-0.04655554],\n",
       "       [-0.03897879],\n",
       "       [ 0.27687521],\n",
       "       [ 0.01321921],\n",
       "       [ 0.04623734],\n",
       "       [ 0.03916802],\n",
       "       [ 0.85204607],\n",
       "       [-0.05645259],\n",
       "       [ 0.70078471],\n",
       "       [ 0.75941852],\n",
       "       [ 0.67436707],\n",
       "       [ 0.03634029],\n",
       "       [ 0.74141588],\n",
       "       [ 0.80509432],\n",
       "       [-0.05660934],\n",
       "       [ 0.09398364],\n",
       "       [ 0.66495617],\n",
       "       [ 0.28108801],\n",
       "       [-0.05779607],\n",
       "       [ 0.81513943],\n",
       "       [ 0.04263555],\n",
       "       [ 0.67803574],\n",
       "       [-0.00826354],\n",
       "       [ 0.68639015],\n",
       "       [ 0.73936973],\n",
       "       [-0.05641312],\n",
       "       [-0.01013757],\n",
       "       [ 0.84758318],\n",
       "       [ 0.65985084],\n",
       "       [-0.00306826],\n",
       "       [-0.05210863],\n",
       "       [-0.0887166 ],\n",
       "       [-0.04790435],\n",
       "       [-0.05075767],\n",
       "       [-0.04105684],\n",
       "       [-0.08897145],\n",
       "       [ 0.86716379],\n",
       "       [-0.05624785],\n",
       "       [-0.05810328],\n",
       "       [ 0.72512841],\n",
       "       [-0.05645259],\n",
       "       [ 0.86631422],\n",
       "       [-0.04933316],\n",
       "       [-0.04372781]])"
      ]
     },
     "execution_count": 15,
     "metadata": {},
     "output_type": "execute_result"
    }
   ],
   "source": [
    "pred"
   ]
  },
  {
   "cell_type": "code",
   "execution_count": 16,
   "metadata": {},
   "outputs": [
    {
     "data": {
      "image/png": "[encoded data removed]",
      "text/plain": [
       "<Figure size 640x480 with 1 Axes>"
      ]
     },
     "metadata": {},
     "output_type": "display_data"
    }
   ],
   "source": [
    "import matplotlib.pyplot as plt\n",
    "from sklearn.metrics import roc_curve, auc\n",
    "\n",
    "fpr, tpr, thresholds = roc_curve(y_true=y_test, y_score=pred)\n",
    "\n",
    "plt.plot(fpr, tpr, label='roc curve (area = %0.3f)' % auc(fpr, tpr))\n",
    "plt.plot([0, 1], [0, 1], linestyle='--', label='random')\n",
    "plt.plot([0, 0, 1], [0, 1, 1], linestyle='--', label='ideal')\n",
    "plt.legend()\n",
    "plt.xlabel('false positive rate')\n",
    "plt.ylabel('true positive rate')\n",
    "plt.show()\n"
   ]
  },
  {
   "cell_type": "code",
   "execution_count": null,
   "metadata": {},
   "outputs": [],
   "source": []
  }
 ],
 "metadata": {
  "kernelspec": {
   "display_name": "Python 3",
   "language": "python",
   "name": "python3"
  },
  "language_info": {
   "codemirror_mode": {
    "name": "ipython",
    "version": 3
   },
   "file_extension": ".py",
   "mimetype": "text/x-python",
   "name": "python",
   "nbconvert_exporter": "python",
   "pygments_lexer": "ipython3",
   "version": "3.11.6"
  }
 },
 "nbformat": 4,
 "nbformat_minor": 2
}
